{
 "cells": [
  {
   "cell_type": "code",
   "execution_count": 25,
   "id": "0072a04b",
   "metadata": {},
   "outputs": [],
   "source": [
    "import numpy as np\n",
    "import matplotlib.pyplot as plt\n",
    "import pandas as pd"
   ]
  },
  {
   "cell_type": "code",
   "execution_count": 24,
   "id": "dd404764",
   "metadata": {
    "scrolled": true
   },
   "outputs": [
    {
     "name": "stdout",
     "output_type": "stream",
     "text": [
      "[0.  0.5 1.  1.5 2.  2.5 3.  3.5 4.  4.5 5. ]\n",
      "[ 0.92  3.47  4.96  6.86  8.87 10.73 12.63 14.24 16.09 18.11 19.74]\n"
     ]
    }
   ],
   "source": [
    "x,Dphi=np.loadtxt('sound-data.csv', skiprows=1,unpack=True, delimiter=\",\")\n",
    "print(x)\n",
    "print(Dphi)"
   ]
  },
  {
   "cell_type": "code",
   "execution_count": 22,
   "id": "a2942e28",
   "metadata": {},
   "outputs": [
    {
     "name": "stdout",
     "output_type": "stream",
     "text": [
      "[371.94545455   1.30318182]\n",
      " \n",
      "371.9 x + 1.303\n",
      "[[ 1.42285032e+01 -3.55712580e-01]\n",
      " [-3.55712580e-01  1.24499403e-02]]\n"
     ]
    },
    {
     "data": {
      "image/png": "[encoded data removed]",
      "text/plain": [
       "<Figure size 432x288 with 1 Axes>"
      ]
     },
     "metadata": {
      "needs_background": "light"
     },
     "output_type": "display_data"
    },
    {
     "name": "stdout",
     "output_type": "stream",
     "text": [
      "uncertainty of gradient= 3.77206882227777\n",
      "wavelength= 0.016892760027412464 m\n",
      "speed of sound= 337.8552005482493 m/s\n",
      "percentage uncertainty of the gradient is 1.0141456969386615 %\n"
     ]
    }
   ],
   "source": [
    "x=[0.0,0.005,0.01,0.015,0.02,0.025,0.03,0.035,0.04,0.045,0.05]\n",
    "y=[0.92,3.47,4.96,6.86,8.87,10.73,12.63,14.24,16.09,18.11,19.74]\n",
    "\n",
    "plt.plot(x,y,'x')\n",
    "plt.ylabel('mean phase difference(rad)')\n",
    "plt.xlabel('displacement(m)')\n",
    "\n",
    "xerror=np.array([0.02e-3,0.02e-3,0.02e-3,0.02e-3,0.02e-3,0.02e-3,0.02e-3,0.02e-3,0.02e-3,0.02e-3,0.02e-3])\n",
    "yerror=np.array([2.76,2.73,5.52,2.22,2.22,1.98,2.36,2.37,3.17,2.7,3.68])\n",
    "plt.errorbar(x,y,xerr=xerror,yerr=yerror,fmt='o',capsize=3)\n",
    "\n",
    "fit_x,cov_x = np.polyfit(x,y,1,w=1/xerror,cov=True)\n",
    "#fit_x gives the coefficients, cov_x gives the covariance matrix\n",
    "print(fit_x)\n",
    "px=np.poly1d(fit_x)\n",
    "\n",
    "\n",
    "print(px)\n",
    "print(cov_x)\n",
    "plt.plot(x,px(x))\n",
    "plt.show()\n",
    "sigma_gradient=np.sqrt(1.42285032e+01) #caculate the uncertainty of the gradient using cox_x\n",
    "\n",
    "print('uncertainty of gradient=',sigma_gradient)\n",
    "k=371.94545455 #the gradient of the straight line graph\n",
    "pi=3.1415926535\n",
    "wavelength=2*pi/k\n",
    "print('wavelength=',wavelength,'m')\n",
    "speed_of_sound= 20000*wavelength\n",
    "print('speed of sound=',speed_of_sound,'m/s')\n",
    "\n",
    "percent_uncertainty_gradient=sigma_gradient*100/371.94545455\n",
    "print('percentage uncertainty of the gradient is',percent_uncertainty_gradient,'%')"
   ]
  },
  {
   "cell_type": "code",
   "execution_count": null,
   "id": "05b80142",
   "metadata": {},
   "outputs": [],
   "source": []
  }
 ],
 "metadata": {
  "kernelspec": {
   "display_name": "Python 3",
   "language": "python",
   "name": "python3"
  },
  "language_info": {
   "codemirror_mode": {
    "name": "ipython",
    "version": 3
   },
   "file_extension": ".py",
   "mimetype": "text/x-python",
   "name": "python",
   "nbconvert_exporter": "python",
   "pygments_lexer": "ipython3",
   "version": "3.8.8"
  }
 },
 "nbformat": 4,
 "nbformat_minor": 5
}
